{
 "cells": [
  {
   "cell_type": "markdown",
   "metadata": {},
   "source": [
    "<img src=\"./images/Logos.jpg\" title=\"Institutional Logos\" width=\"70%\">"
   ]
  },
  {
   "cell_type": "markdown",
   "metadata": {
    "tags": []
   },
   "source": [
    "# Heat Waves | Installation and Data Access 01: Integration Test of CLIMADA Impact Assessment with Copernicus Climate Change Service (C3S) data (V3)\n",
    "\n",
    "### About\n",
    "\n",
    "Welcome to this tutorial, where we embark on a journey to analyze the impact of heat stress using CLIMADA in the context of the U-CLIMADAPT project (User-centric Assessment of Climate Change Impacts for Adaptation). This tutorial is part of a series of three, focusing on *01 Heat Waves|Warm-up, 02 Heat Waves|Scenario*, Heat Stress, and 03 xx. Throughout these tutorials, we will demonstrate how we leverage climate data, particularly seasonal forecast data from the Climate Data Store (CDS) of the Copernicus Climate Change Service (C3S), in conjunction with CLIMADA (CLIMate ADAptation), to estimate the socio-economic or human impacts of climate-related hazards.\n",
    "\n",
    "### About U-CLIMADAPT\n",
    "\n",
    "The U-CLIMADAPT project is a collaborative effort led by the Working Group \"Impact of Climate Change.\" Its primary goal is to provide refined climate impact assessments tailored to specific requirements. To achieve this, it leverages the power of climate forecasts and projections from C3S's Climate Data Store (CDS), while also integrating Copernicus land-use and satellite data\n",
    "\n",
    "### Discover New Possibilities\n",
    "\n",
    "In U-CLIMADAPT, is dedicated to developing a comprehensive socioeconomic impact model chain using CLIMADA. Your feedback is invaluable as we shape this user-driven approach. Together, we address climate-related hazards like extreme heat, precipitation, agricultural drought, wind storms, and river floods, evaluating their impact on human health, agriculture, assets, and infrastructure. By actively collaborating with users like you from diverse sectors, including public authorities, industry, and academia, we ensure that our assessments are not only socio-economically relevant but also highly applicable to your needs.\n",
    "\n",
    "### Tutorial Overview\n",
    "\n",
    "Now, let's dive into the tutorial itself. We will guide you through the following steps:\n",
    "\n",
    "- Install CLIMADA ETH.\n",
    "- Search, download Copernicus data from the Copernicus Data Store CDS.\n",
    "\n",
    "By following this tutorial, you will gain hands-on experience and unlock the potential of integrating CLIMADA with C3S data from Copernicus. Let's get started!"
   ]
  },
  {
   "cell_type": "markdown",
   "metadata": {},
   "source": [
    "<br>"
   ]
  },
  {
   "cell_type": "markdown",
   "metadata": {},
   "source": [
    "### Acknowledgments\n",
    "\n",
    "- **Script Author**: [Dahyann Araya](https://github.com/DahyannAraya?tab=repositories)\n",
    "- **Reviewer**: [Timo Schmid](https://github.com/timschmi95)"
   ]
  },
  {
   "cell_type": "markdown",
   "metadata": {},
   "source": [
    "## Instal CLIMADA"
   ]
  },
  {
   "cell_type": "markdown",
   "metadata": {},
   "source": [
    "<div class=\"alert alert-block alert-warning\">\n",
    "    <i class=\"fa fa-warning\"></i>&nbsp;Important: For the following steps, you need to install CLIMADA. Please follow the information below for its installation.\n",
    "</div>"
   ]
  },
  {
   "cell_type": "markdown",
   "metadata": {},
   "source": [
    "### Install CLIMADA\n",
    "\n",
    "CLIMADA is compatible with Windows, macOS, and Linux operating systems. It can be installed from source code and offers two installation options: user installation and expert/developer installation. Please refer to the [installation guide](https://climada-python.readthedocs.io/en/latest/guide/install.html) for detailed instructions. For these tutorials, we require the [Advanced Instructions installation](https://climada-python.readthedocs.io/en/latest/guide/install.html#advanced-instructions). "
   ]
  },
  {
   "cell_type": "markdown",
   "metadata": {},
   "source": [
    ">Tip: Additionally, CLIMADA provides datasets through its [Data-API](https://climada.ethz.ch/data-types/), including centroid data, hazard data, and exposure data, which can be easily utilized for CLIMADA analyses"
   ]
  },
  {
   "cell_type": "markdown",
   "metadata": {},
   "source": [
    "## Search, download Copernicus data\n",
    "\n",
    "Before we begin we must prepare our environment. This includes installing the Application Programming Interface (API) of the CDS, and importing the various python libraries that we will need.\n",
    "\n",
    "- First, register on [Copernicus Data Store CDS](https://cds.climate.copernicus.eu/user/login?destination=%2F%23!%2Fhome). Once registered, go to your account, and at the bottom of the web page, you will see your key which has 32 digits (e.g., xxxxxxxx-xxxx-xxxx-xxxx-xxxxxxxxxxxx). \n",
    "\n",
    "- Second, install the CDS API using pip.\n",
    "\n",
    "### Install CDS API\n",
    "\n",
    "To install the CDS API, run the following command. We use an exclamation mark to pass the command to the shell (not to the Python interpreter)."
   ]
  },
  {
   "cell_type": "code",
   "execution_count": 11,
   "metadata": {},
   "outputs": [],
   "source": [
    "#!pip install cdsapi"
   ]
  },
  {
   "cell_type": "markdown",
   "metadata": {},
   "source": [
    "### If this pip does not work\n",
    "\n",
    "#### Window\n",
    "Please follow the instructions for the [Windows installation](https://confluence.ecmwf.int/display/CKB/How+to+install+and+use+CDS+API+on+Windows). \n",
    "Please note that the Windows installation process requires you to be registered with Copernicus and have a personal key (refer to [CDS website](https://cds.climate.copernicus.eu/#!/home) for more information). Additionally, you will need to create a text document in the installation folder of the API and name it \".cdsapirc.txt\". Inside the document, paste the following information:\n",
    "\n",
    "- url: https://cds.climate.copernicus.eu/api/v2\n",
    "- key: xxxxxxxx-xxxx-xxxx-xxxx-xxxxxxxxxxxx \n",
    "\n",
    "After saving the content, the document will be named .cdsapirc.txt. Rename the file by removing \".txt\" extension.\n",
    "Once this step is completed, install in the command prompt with \"$ pip install cdsapi\".\n",
    "\n",
    "To summarize, the instructions are:\n",
    "\n",
    "- Follow the installation instructions for cdsapi on [Windows installation](https://confluence.ecmwf.int/display/CKB/How+to+install+and+use+CDS+API+on+Windows).\n",
    "- Create a text document in the installation folder and name it \".cdsapirc\".\n",
    "- Within the document, paste the provided information and save it.\n",
    "- Rename the document by removing the \".txt\" extension.\n",
    "- Install cdsapi in the command prompt with \"$ pip install cdsapi\".\n",
    "\n",
    "\n",
    "#### macOS\n",
    "To install CDS API on a Mac, please follow the instructions [Mac installation](https://confluence.ecmwf.int/display/CKB/How+to+install+and+use+CDS+API+on+macOS).\n",
    "\n",
    "Note that the installation on Mac requires creating a document with the Terminal where you will install the API. You can do this by typing \"touch ~/.cdsapirc\" in the Terminal. Then, open the document by typing \"nano ~/.cdsapirc\" and paste the following information into the document:\n",
    "\n",
    "- url: https://cds.climate.copernicus.eu/api/v2\n",
    "- key: xxxxxxxx-xxxx-xxxx-xxxx-xxxxxxxxxxxx\n",
    "\n",
    "After saving the content of the document, install the CDS API in the Terminal by typing \"pip install cdsapi\".\n",
    "\n",
    "- Follow the instructions on this website: [Windows installation](https://confluence.ecmwf.int/display/CKB/How+to+install+and+use+CDS+API+on+Windows). to install cdsapi on a Mac.\n",
    "- Navigate to the directory where you want to install the API by using the 'cd' command in Terminal.\n",
    "- Type the command 'touch ~/.cdsapirc' in Terminal to create a file for the API key.\n",
    "- Type the command 'nano ~/.cdsapirc' in Terminal to open the file in a text editor.\n",
    "- Within the document, paste the provided information and save it.\n",
    "- Save the file by pressing 'Ctrl + X' and then 'Y'.\n",
    "- Type the command 'pip install cdsapi' in Terminal to install the cdsapi module."
   ]
  },
  {
   "cell_type": "markdown",
   "metadata": {},
   "source": [
    "### Import libraries\n",
    "\n",
    "We will be working with data in NetCDF format. To best handle this data we will use libraries for working with multidimensional arrays, in particular Xarray. We will also need libraries for plotting and viewing data, in this case we will use Matplotlib and Cartopy."
   ]
  },
  {
   "cell_type": "markdown",
   "metadata": {},
   "source": [
    "After installing CLIMADA, the only package you need to install to run the notebook is seaborn. Please install it using the following code:"
   ]
  },
  {
   "cell_type": "code",
   "execution_count": 12,
   "metadata": {},
   "outputs": [],
   "source": [
    "#!pip install seaborn"
   ]
  },
  {
   "cell_type": "code",
   "execution_count": 13,
   "metadata": {},
   "outputs": [],
   "source": [
    "# CDS API\n",
    "import cdsapi\n",
    "\n",
    "# Libraries for working with multidimensional arrays\n",
    "import numpy as np\n",
    "import xarray as xr\n",
    "\n",
    "# Libraries for plotting and visualising data\n",
    "import matplotlib.path as mpath\n",
    "import matplotlib.pyplot as plt\n",
    "import cartopy.crs as ccrs\n",
    "from cartopy.mpl.gridliner import LONGITUDE_FORMATTER, LATITUDE_FORMATTER\n",
    "import cartopy.feature as cfeature\n",
    "import numpy as np\n",
    "import pandas as pd\n",
    "import geopandas as gpd\n",
    "import seaborn as sns\n",
    "\n",
    "# Disable warnings for data download via API\n",
    "import urllib3\n",
    "\n",
    "urllib3.disable_warnings()\n",
    "\n",
    "import warnings\n",
    "\n",
    "warnings.filterwarnings(\"ignore\", category=RuntimeWarning, module=\"shapely.predicates\")\n",
    "warnings.filterwarnings(\n",
    "    \"ignore\", category=RuntimeWarning, module=\"shapely.constructive\"\n",
    ")"
   ]
  },
  {
   "cell_type": "markdown",
   "metadata": {},
   "source": [
    "### Enter your CDS API key\n",
    "\n",
    "We will request data from the Climate Data Store (CDS) programmatically with the help of the CDS API. Let us make use of the option to manually set the CDS API credentials. First, you have to define two variables: `URL` and `KEY` which build together your CDS API key. The string of characters that make up your KEY include your personal User ID and CDS API key. Remember to obtain these, first register or login to the CDS (http://cds.climate.copernicus.eu), then visit https://cds.climate.copernicus.eu/api-how-to and copy the string of characters listed after \"key:\". Replace the `#########` below with this string."
   ]
  },
  {
   "cell_type": "code",
   "execution_count": 14,
   "metadata": {},
   "outputs": [],
   "source": [
    "URL = \"https://cds.climate.copernicus.eu/api/v2\"\n",
    "KEY = \"xxxxxxxx-xxxx-xxxx-xxxx-xxxxxxxxxxxx\""
   ]
  },
  {
   "cell_type": "markdown",
   "metadata": {},
   "source": [
    "Here we specify a data directory in which we will download our data and all output files that we will generate:"
   ]
  },
  {
   "cell_type": "code",
   "execution_count": 15,
   "metadata": {},
   "outputs": [
    {
     "name": "stdout",
     "output_type": "stream",
     "text": [
      "Data will be saved in: /Users/daraya/Documents/test_data\n"
     ]
    }
   ],
   "source": [
    "import os\n",
    "\n",
    "# Set the data directory within the user's Documents directory\n",
    "DATADIR = os.path.join(os.path.expanduser(\"~/Documents\"), \"test_data\")\n",
    "os.makedirs(DATADIR, exist_ok=True)\n",
    "print(f\"Data will be saved in: {DATADIR}\")"
   ]
  },
  {
   "cell_type": "code",
   "execution_count": 16,
   "metadata": {},
   "outputs": [],
   "source": [
    "from climada import CONFIG\n",
    "\n",
    "KEY = str(CONFIG.cds_api_key)"
   ]
  },
  {
   "cell_type": "code",
   "execution_count": 17,
   "metadata": {},
   "outputs": [
    {
     "name": "stdout",
     "output_type": "stream",
     "text": [
      "Current Directory: /Users/daraya/Documents/GitHub_files/CDS_Warm_up/CDS_Warm_Up\n"
     ]
    }
   ],
   "source": [
    "current_directory = os.getcwd()\n",
    "\n",
    "# Print the current directory\n",
    "print(\"Current Directory:\", current_directory)"
   ]
  },
  {
   "cell_type": "markdown",
   "metadata": {
    "tags": []
   },
   "source": [
    "### Search for data\n",
    "\n",
    "You can access various data options from Copernicus, including heat waves, on the Copernicus armonissed data acces [WEKEO](https://www.wekeo.eu/subscription-benefits?mtm_campaign=Wekeo-Souscription&mtm_medium=cpc&mtm_source=google&mtm_content=text&mtm_cid=158889802990&mtm_kwd=wekeo&gad_source=1&gclid=CjwKCAjwnK60BhA9EiwAmpHZw-n8Kyml93dIMqhmgaKoy2s9oPtaysDBG4lNnf957EtOy0axDXQhvBoCZ-8QAvD_BwE). To search for the forescasting data, visit the [CDS website](https://cds.climate.copernicus.eu/#!/home). There, you can access various forecasting data. Currently, the following options are available:\n",
    "\n",
    "1. [Seasonal forecast anomalies on single levels](https://cds.climate.copernicus.eu/cdsapp#!/dataset/seasonal-postprocessed-single-levels?tab=overview)\n",
    "\n",
    "This refers to the deviation or difference from the long-term average or climatology of a specific variable (e.g., temperature or precipitation) at single levels (e.g., surface or specific atmospheric levels) in a seasonal forecast. It provides information on how the forecasted values differ from what is considered normal for that particular season.\n",
    "\n",
    "2. [Seasonal forecast daily and subdaily data on single levels](https://cds.climate.copernicus.eu/cdsapp#!/dataset/seasonal-original-single-levels?tab=overview)\n",
    "\n",
    "This refers to the availability of daily or subdaily (e.g., hourly) data at single levels in a seasonal forecast. It provides detailed information on the forecasted values of various variables at specific time intervals throughout the season, allowing for more granular analysis and interpretation.\n",
    "\n",
    "3. [Seasonal forecast monthly statistics on single levels](https://cds.climate.copernicus.eu/cdsapp#!/dataset/seasonal-monthly-single-levels?tab=overview)\n",
    "\n",
    "This refers to aggregated statistical information, such as mean, minimum, maximum, or standard deviation, calculated on a monthly basis for variables at single levels in a seasonal forecast. It provides summary statistics for each month, giving an overview of the expected conditions during that particular period.\n",
    "\n",
    "4. [Seasonal forecast subdaily data on pressure levels](https://cds.climate.copernicus.eu/cdsapp#!/dataset/seasonal-original-pressure-levels?tab=overview)\n",
    "\n",
    "This refers to the availability of subdaily (e.g., hourly) data specifically at different pressure levels (e.g., 500 hPa, 850 hPa) in a seasonal forecast. It provides information on variables such as temperature, wind, or humidity at specific pressure levels, allowing for analysis of atmospheric conditions at different heights.\n",
    "\n",
    "5. [Seasonal forecast monthly statistics on pressure levels](https://cds.climate.copernicus.eu/cdsapp#!/dataset/seasonal-monthly-pressure-levels?tab=overview)\n",
    "\n",
    "Similar to point 3, this refers to aggregated statistical information calculated on a monthly basis, but specifically for variables at different pressure levels in a seasonal forecast. It provides summary statistics for each month at specific pressure levels, giving insights into the expected atmospheric conditions at different heights.\n",
    "\n",
    "6. [Seasonal forecast anomalies on pressure levels](https://cds.climate.copernicus.eu/cdsapp#!/dataset/seasonal-postprocessed-pressure-levels?tab=overview)\n",
    "\n",
    "Similar to point 1, this refers to the deviation or difference from the long-term average or climatology of a specific variable at different pressure levels in a seasonal forecast. It provides information on how the forecasted values at different heights differ from what is considered normal for that particular season.\n",
    "\n"
   ]
  },
  {
   "cell_type": "markdown",
   "metadata": {},
   "source": [
    "Having selected the correct dataset, we now need to specify what product type, variables, temporal and geographic coverage we are interested in. These can all be selected in the **\"Download data\"** tab. In this tab a form appears in which we will select the parameters like to following to download **(note that these parameters may vary depending on the specific Copernicus data being downloaded)**:\n",
    "\n",
    "- Product type: `Monthly averaged reanalysis`\n",
    "- Variable: `2m temperature`\n",
    "- Year: `1979 to year before present`\n",
    "- Month: `all`\n",
    "- Time: `00:00` (default)\n",
    "- Geographical area: `Europe` \n",
    "- Format: `NetCDF`\n",
    "\n",
    "At the end of the download form, select **\"Show API request\"**. This will reveal a block of code, which you can simply copy and paste into a cell of your Jupyter Notebook (see cell below) ...\n",
    "\n",
    "### Select the data\n",
    "\n",
    "For this exercise we have selected a product ready to use [heatwave days dataset from Copernicus](https://cds.climate.copernicus.eu/cdsapp#!/dataset/sis-heat-and-cold-spells?tab=overview). The dataset provides information for different future time periods and considers climate change scenarios, specifically RCP 8.5 and 4.6.\n",
    "\n",
    "A bias-adjusted EURO-CORDEX dataset is utilized, offering temperature data from 1971 to 2100. By averaging the statistics over 30-year intervals, a smoothed mean time series spanning 1986 to 2085 is obtained. The dataset provides annual heatwaves days data with a resolution of 0.1° in latitude and longitude, equivalent to approximately 11 kilometers at the equator.\n",
    "\n",
    "\n",
    "### Download data\n",
    "\n",
    "... having copied the API request into the cell below, running this will retrieve and download the data you requested into your local directory. However, before you run the cell below, the **terms and conditions** of this particular dataset need to have been accepted in the CDS. The option to view and accept these conditions is given at the end of the download form, just above the **\"Show API request\"** option."
   ]
  },
  {
   "cell_type": "code",
   "execution_count": 18,
   "metadata": {},
   "outputs": [
    {
     "name": "stderr",
     "output_type": "stream",
     "text": [
      "2024-07-09 11:08:18,155 INFO Welcome to the CDS\n",
      "INFO:cdsapi:Welcome to the CDS\n",
      "2024-07-09 11:08:18,156 INFO Sending request to https://cds.climate.copernicus.eu/api/v2/resources/sis-heat-and-cold-spells\n",
      "INFO:cdsapi:Sending request to https://cds.climate.copernicus.eu/api/v2/resources/sis-heat-and-cold-spells\n",
      "2024-07-09 11:08:18,214 INFO Request is completed\n",
      "INFO:cdsapi:Request is completed\n",
      "2024-07-09 11:08:18,216 INFO Downloading https://download-0013-clone.copernicus-climate.eu/cache-compute-0013/cache/data0/dataset-sis-heat-and-cold-spells-779a4186-de7e-4f4c-bf21-02a3ee956072.tar.gz to /Users/daraya/Documents/test_data/sis-heat-and-cold-spells.tar.gz (40M)\n",
      "INFO:cdsapi:Downloading https://download-0013-clone.copernicus-climate.eu/cache-compute-0013/cache/data0/dataset-sis-heat-and-cold-spells-779a4186-de7e-4f4c-bf21-02a3ee956072.tar.gz to /Users/daraya/Documents/test_data/sis-heat-and-cold-spells.tar.gz (40M)\n",
      "2024-07-09 11:08:39,144 INFO Download rate 1.9M/s   \n",
      "INFO:cdsapi:Download rate 1.9M/s\n"
     ]
    },
    {
     "data": {
      "text/plain": [
       "Result(content_length=41946935,content_type=application/gzip,location=https://download-0013-clone.copernicus-climate.eu/cache-compute-0013/cache/data0/dataset-sis-heat-and-cold-spells-779a4186-de7e-4f4c-bf21-02a3ee956072.tar.gz)"
      ]
     },
     "execution_count": 18,
     "metadata": {},
     "output_type": "execute_result"
    }
   ],
   "source": [
    "c = cdsapi.Client(url=URL, key=KEY)\n",
    "\n",
    "c.retrieve(\n",
    "    \"sis-heat-and-cold-spells\",\n",
    "    {\n",
    "        \"format\": \"tgz\",\n",
    "        \"variable\": \"heat_wave_days\",\n",
    "        \"definition\": \"health_related\",\n",
    "        \"experiment\": [\n",
    "            \"rcp8_5\",\n",
    "        ],\n",
    "        \"ensemble_statistic\": [\n",
    "            \"ensemble_members_average\",\n",
    "        ],\n",
    "    },\n",
    "    f\"{DATADIR}/sis-heat-and-cold-spells.tar.gz\",\n",
    ")"
   ]
  },
  {
   "cell_type": "code",
   "execution_count": null,
   "metadata": {},
   "outputs": [],
   "source": []
  },
  {
   "cell_type": "code",
   "execution_count": null,
   "metadata": {},
   "outputs": [],
   "source": []
  }
 ],
 "metadata": {
  "kernelspec": {
   "display_name": "Python 3 (ipykernel)",
   "language": "python",
   "name": "python3"
  },
  "language_info": {
   "codemirror_mode": {
    "name": "ipython",
    "version": 3
   },
   "file_extension": ".py",
   "mimetype": "text/x-python",
   "name": "python",
   "nbconvert_exporter": "python",
   "pygments_lexer": "ipython3",
   "version": "3.9.18"
  },
  "toc-autonumbering": true
 },
 "nbformat": 4,
 "nbformat_minor": 4
}
