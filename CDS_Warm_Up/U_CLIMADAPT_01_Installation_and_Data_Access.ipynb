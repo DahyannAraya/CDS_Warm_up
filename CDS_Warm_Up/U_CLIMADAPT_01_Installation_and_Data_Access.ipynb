{
 "cells": [
  {
   "cell_type": "markdown",
   "metadata": {},
   "source": [
    "<img src=\"./images/Logos.jpg\" title=\"Institutional Logos\" width=\"70%\">"
   ]
  },
  {
   "cell_type": "markdown",
   "metadata": {
    "tags": []
   },
   "source": [
    "# Heat Waves | Installation and Data Access 01: \n",
    "\n",
    "# Integration Test of CLIMADA Impact Assessment with Copernicus Climate Change Service (C3S) data (V3)\n",
    "\n",
    "### About\n",
    "\n",
    "Welcome to this tutorial, where we embark on a journey to analyse the impact of heat stress using CLIMADA in the context of the U-CLIMADAPT project (User-centric Assessment of Climate Change Impacts for Adaptation). This tutorial is part of a series of four, focusing on **01 Installation and Data Access**, **02 Warm-up**, **03 Scenario**, and **04 Uncertainty and Sensitivity**.\n",
    "\n",
    "Beginning with **01 Installation and Data Access**, it is essential to fully utilise this tutorial series, as it lays the foundation for the entire workflow. This first tutorial ensures that all necessary software, dependencies, and data access are correctly set up, enabling seamless execution of the remaining tutorials.\n",
    "\n",
    "However, the other tutorials (02 Warm-up, 03 Scenario, and 04 Uncertainty and Sensitivity) are designed to be self-contained. You can approach them independently based on your familiarity and expertise with handling CDS data and working with CLIMADA. \n",
    "\n",
    "Throughout these tutorials, we will demonstrate how we leverage climate data, particularly seasonal forecast data from the Climate Data Store (CDS) of the Copernicus Climate Change Service (C3S), in conjunction with CLIMADA (CLIMate ADAptation), to estimate the socio-economic or human impacts of climate-related hazards.\n",
    "\n",
    "### About U-CLIMADAPT\n",
    "\n",
    "The U-CLIMADAPT project is a collaborative effort led by the Working Group \"Impact of Climate Change.\" Its primary goal is to provide refined climate impact assessments tailored to specific requirements. To achieve this, it leverages the power of climate forecasts and projections from C3S's Climate Data Store (CDS) while integrating Copernicus land-use and satellite data.\n",
    "\n",
    "### Integrating CLIMADA and Copernicus Data\n",
    "\n",
    "U-CLIMADAPT integrates Copernicus Climate Data Store (CDS) datasets with CLIMADA to create a powerful tool for assessing the socioeconomic impacts of climate hazards. By combining Copernicus data on extreme heat, floods, drought, and more with CLIMADA’s modelling capabilities, users can estimate risks to populations, infrastructure, and assets, enabling data-driven climate adaptation strategies.\n",
    "\n",
    "### Tutorial Overview\n",
    "\n",
    "Now, let's dive into the tutorial itself. We will guide you through the following steps:\n",
    "\n",
    "- Install CLIMADA ETH.\n",
    "- Search for and download Copernicus data from the Copernicus Data Store CDS.\n",
    "\n",
    "By following this tutorial, you will gain hands-on experience and unlock the potential of integrating CLIMADA with C3S data from Copernicus. Let's get started!"
   ]
  },
  {
   "cell_type": "markdown",
   "metadata": {},
   "source": [
    "### Acknowledgments\n",
    "\n",
    "- **Script Author**: [Dahyann Araya](https://github.com/DahyannAraya?tab=repositories)\n",
    "- **Reviewer**: [Timo Schmid](https://github.com/timschmi95), [Tat Chi Wong](https://github.com/wongtaeth), [Ruth Lorenz](https://github.com/ruthlorenz), [Nicolas Colombi](https://github.com/NicolasColombi)"
   ]
  },
  {
   "cell_type": "markdown",
   "metadata": {},
   "source": [
    "# Instal CLIMADA"
   ]
  },
  {
   "cell_type": "markdown",
   "metadata": {},
   "source": [
    "<div class=\"alert alert-block alert-warning\">\n",
    "    <i class=\"fa fa-warning\"></i>&nbsp;Important: For the following steps, you need to install CLIMADA. Please follow the instructions below to install it.\n",
    "</div>"
   ]
  },
  {
   "cell_type": "markdown",
   "metadata": {},
   "source": [
    "CLIMADA is compatible with Windows, macOS, and Linux operating systems. It can be installed from source code and offers two installation options: user installation and expert/developer installation. For these tutorials, we require the [Advanced Instructions installation](https://climada-python.readthedocs.io/en/latest/guide/install.html#advanced-instructions). "
   ]
  },
  {
   "cell_type": "markdown",
   "metadata": {},
   "source": [
    ">Tip: Additionally, CLIMADA provides datasets through its [Data-API](https://climada.ethz.ch/data-types/), including centroid data, hazard data, and exposure data, which can be easily utilized for CLIMADA analyses"
   ]
  },
  {
   "cell_type": "markdown",
   "metadata": {},
   "source": [
    "# Search and download Copernicus data\n",
    "\n",
    "Before we begin, we must prepare our environment. This includes installing the Application Programming Interface (API) of the CDS and importing the various Python libraries that we will need.\n",
    "\n",
    "- First, register on [Copernicus Data Store CDS](https://cds.climate.copernicus.eu/). Once registered, go to your account, and at the bottom of the web page, you will see your key, which has 32 digits (e.g., xxxxxxxx-xxxx-xxxx-xxxx-xxxxxxxxxxxx). \n",
    "\n",
    "- Second, install the CDS API in your climada environment using pip, as described in the next section.\n",
    "\n",
    "## Install CDS API\n",
    "\n",
    "To install the CDS API, with the climada_env activated run the following command: \n",
    "\n",
    "(Note: we use an exclamation mark to pass the command to the shell and not the Python interpreter)."
   ]
  },
  {
   "cell_type": "code",
   "execution_count": 1,
   "metadata": {},
   "outputs": [],
   "source": [
    "#!$ pip install cdsapi>=0.7.2"
   ]
  },
  {
   "cell_type": "markdown",
   "metadata": {},
   "source": [
    "### CDS API configuration\n",
    "\n",
    "#### Window\n",
    "Please follow the instructions for the [Windows installation](https://confluence.ecmwf.int/display/CKB/How+to+install+and+use+CDS+API+on+Windows). \n",
    "Please note that the Windows installation process requires you to be registered with Copernicus and have a personal key (refer to [CDS website](https://cds.climate.copernicus.eu/#!/home) for more information). Additionally, you will need to create a text document in the installation folder of the API and name it \".cdsapirc.txt\". Inside the document, paste the following information:\n",
    "\n",
    "- url: https://cds.climate.copernicus.eu/api/v2\n",
    "- key: xxxxxxxx-xxxx-xxxx-xxxx-xxxxxxxxxxxx \n",
    "\n",
    "After saving the content, the document will be named .cdsapirc.txt. Rename the file by removing \".txt\" extension.\n",
    "Once this step is completed, install in the command prompt with \"$ pip install cdsapi\".\n",
    "\n",
    "To summarize, the instructions are:\n",
    "\n",
    "- Follow the installation instructions for cdsapi on [Windows installation](https://confluence.ecmwf.int/display/CKB/How+to+install+and+use+CDS+API+on+Windows).\n",
    "- Create a text document in the installation folder and name it \".cdsapirc\".\n",
    "- Within the document, paste the provided information and save it.\n",
    "- Rename the document by removing the \".txt\" extension.\n",
    "- Install cdsapi in the command prompt with \"$ pip install cdsapi\".\n",
    "\n",
    "\n",
    "#### macOS\n",
    "To configure the CDS API on a Mac, please follow the instructions [Mac installation](https://confluence.ecmwf.int/display/CKB/How+to+install+and+use+CDS+API+on+macOS) or the following:\n",
    "\n",
    "Note that the installation on Mac requires creating a document with the Terminal where you will install the API. You can do this by following these instructions:\n",
    "\n",
    "- Navigate to the directory where you want to install the API by using the 'cd' command in Terminal.\n",
    "- Type the command 'touch ~/.cdsapirc' in Terminal to create a file for the API key.\n",
    "- Type the command 'nano ~/.cdsapirc' in Terminal to open the file in a text editor.\n",
    "- Within the document, paste the following two lines:\n",
    "\n",
    "        url: https://cds.climate.copernicus.eu/api/v2\n",
    "\n",
    "        key: xxxxxxxx-xxxx-xxxx-xxxx-xxxxxxxxxxxx\n",
    "    \n",
    "- Save the file by pressing 'Ctrl + 0', confirm by presing 'Enter' and then exit with 'Crtl+X'."
   ]
  },
  {
   "cell_type": "markdown",
   "metadata": {},
   "source": [
    "### Enter your CDS API key\n",
    "\n",
    "We will request data from the Climate Data Store (CDS) programmatically with the help of the CDS API. Let us use the option to set the CDS API credentials manually. First, you have to define two variables: `URL` and `KEY`, which build together your CDS API key. The string of characters that make up your KEY includes your User ID and CDS API key. Remember to obtain these, first register or login to the CDS (https://cds.climate.copernicus.eu/), then visit https://cds.climate.copernicus.eu/how-to-api and copy the string of characters listed after \"API Token:\"."
   ]
  },
  {
   "cell_type": "code",
   "execution_count": 2,
   "metadata": {},
   "outputs": [],
   "source": [
    "URL = \"https://cds.climate.copernicus.eu/api\"\n",
    "# KEY is in the format of \"{UID}:{API key}}\"\n",
    "KEY = \"xxxxxx:xxxxxxxx-xxxx-xxxx-xxxx-xxxxxxxxxxxx\""
   ]
  },
  {
   "cell_type": "markdown",
   "metadata": {},
   "source": [
    "Here, we specify a data directory in which we will download our data and all output files that we will generate:"
   ]
  },
  {
   "cell_type": "code",
   "execution_count": 15,
   "metadata": {},
   "outputs": [
    {
     "name": "stdout",
     "output_type": "stream",
     "text": [
      "Data will be saved in: /Users/ncolombi/Documents/test_data\n"
     ]
    }
   ],
   "source": [
    "import os\n",
    "\n",
    "# Set the data directory within the user's Documents directory\n",
    "DATADIR = os.path.join(os.path.expanduser(\"~/Documents\"), \"test_data\")\n",
    "os.makedirs(DATADIR, exist_ok=True)\n",
    "print(f\"Data will be saved in: {DATADIR}\")"
   ]
  },
  {
   "cell_type": "code",
   "execution_count": null,
   "metadata": {},
   "outputs": [],
   "source": [
    "from climada import CONFIG\n",
    "KEY = str(CONFIG.cds_api_key)"
   ]
  },
  {
   "cell_type": "code",
   "execution_count": null,
   "metadata": {},
   "outputs": [],
   "source": [
    "current_directory = os.getcwd()\n",
    "\n",
    "# Print the current directory\n",
    "print(\"Current Directory:\", current_directory)"
   ]
  },
  {
   "cell_type": "markdown",
   "metadata": {
    "tags": []
   },
   "source": [
    "## Search for data\n",
    "\n",
    "You can access various data options from Copernicus, including heat waves, on the Copernicus harmonised data access [WEKEO](https://www.wekeo.eu/subscription-benefits?mtm_campaign=Wekeo-Souscription&mtm_medium=cpc&mtm_source=google&mtm_content=text&mtm_cid=158889802990&mtm_kwd=wekeo&gad_source=1&gclid=CjwKCAjwnK60BhA9EiwAmpHZw-n8Kyml93dIMqhmgaKoy2s9oPtaysDBG4lNnf957EtOy0axDXQhvBoCZ-8QAvD_BwE). To search for the forecasting data, visit the [CDS website](https://cds.climate.copernicus.eu/). There, you can access various forecasting data. Currently, the following options are available:\n",
    "\n",
    "1. [Seasonal forecast anomalies on single levels](https://cds.climate.copernicus.eu/datasets/seasonal-postprocessed-single-levels?tab=overview)\n",
    "\n",
    "This refers to the deviation or difference from the long-term average or climatology of a specific variable (e.g., temperature or precipitation) at single levels (e.g., surface or specific atmospheric levels) in a seasonal forecast. It provides information on how the forecasted values differ from what is considered normal for that particular season.\n",
    "\n",
    "2. [Seasonal forecast daily and subdaily data on single levels](https://cds.climate.copernicus.eu/datasets/seasonal-original-single-levels?tab=overview)\n",
    "\n",
    "This refers to the availability of daily or subdaily (e.g., hourly) data at single levels in a seasonal forecast. It provides detailed information on the forecasted values of various variables at specific time intervals throughout the season, allowing for more granular analysis and interpretation.\n",
    "\n",
    "3. [Seasonal forecast monthly statistics on single levels](https://cds.climate.copernicus.eu/datasets/seasonal-monthly-single-levels?tab=overview)\n",
    "\n",
    "This refers to aggregated statistical information, such as mean, minimum, maximum, or standard deviation, calculated on a monthly basis for variables at single levels in a seasonal forecast. It provides monthly summary statistics, giving an overview of the expected conditions during that particular period.\n",
    "\n",
    "4. [Seasonal forecast subdaily data on pressure levels](https://cds.climate.copernicus.eu/datasets/seasonal-original-pressure-levels?tab=overview)\n",
    "\n",
    "This refers to the availability of subdaily (e.g., hourly) data specifically at different pressure levels (e.g., 500 hPa, 850 hPa) in a seasonal forecast. It provides information on variables such as temperature, wind, or humidity at specific pressure levels, allowing for analysis of atmospheric conditions at different heights.\n",
    "\n",
    "5. [Seasonal forecast monthly statistics on pressure levels](https://cds.climate.copernicus.eu/datasets/seasonal-original-pressure-levels?tab=overview)\n",
    "\n",
    "Similar to point 3, this refers to aggregated statistical information calculated on a monthly basis, but specifically for variables at different pressure levels in a seasonal forecast. It provides summary statistics for each month at specific pressure levels, giving insights into the expected atmospheric conditions at various heights.\n",
    "\n",
    "6. [Seasonal forecast anomalies on pressure levels](https://cds.climate.copernicus.eu/datasets/seasonal-postprocessed-single-levels?tab=overview)\n",
    "\n",
    "Similar to point 1, this refers to the deviation or difference from the long-term average or climatology of a specific variable at different pressure levels in a seasonal forecast. It provides information on how the forecasted values at different heights differ from what is considered normal for that particular season.\n",
    "\n"
   ]
  },
  {
   "cell_type": "markdown",
   "metadata": {},
   "source": [
    "Having selected the correct dataset, we now need to specify what product type, variables, temporal and geographic coverage we are interested in. These can all be chosen in the **\"Download data\"** tab. In this tab, a form appears in which we will select the parameters like the following to download **(note that these parameters may vary depending on the specific Copernicus data being downloaded)**:\n",
    "\n",
    "- Product type: `Monthly averaged reanalysis`\n",
    "- Variable: `2m temperature`\n",
    "- Year: `1979 to year before present`\n",
    "- Month: `all`\n",
    "- Time: `00:00` (default)\n",
    "- Geographical area: `Europe` \n",
    "- Format: `NetCDF`\n",
    "\n",
    "At the end of the download form, select **\"Show API request\"**. This will reveal a block of code, which you can copy and paste into a cell of your Jupyter Notebook (see cell below) ...\n",
    "\n",
    "### Select the data\n",
    "\n",
    "For this exercise, we have selected a product ready to use [heatwave days dataset from Copernicus](https://cds.climate.copernicus.eu/datasets/sis-heat-and-cold-spells?tab=overview). The dataset provides information for different future periods and considers climate change scenarios, specifically RCP 8.5 and 4.6.\n",
    "\n",
    "A bias-adjusted EURO-CORDEX dataset offers temperature data from 1971 to 2100. By averaging the statistics over 30-year intervals, a smoothed mean time series spanning 1986 to 2085 is obtained. The dataset provides annual heatwave days data with a resolution of 0.1° in latitude and longitude, equivalent to approximately 11 kilometres at the equator.\n",
    "\n",
    "\n",
    "## Download data\n",
    "\n",
    "... having copied the API request into the cell below, running this will retrieve and download the requested data into your local directory. However, before you run the cell below, this dataset's **terms and conditions** must be accepted in the CDS. The option to view and accept these conditions is given at the end of the download form, just above the **\"Show API request\"** option."
   ]
  },
  {
   "cell_type": "code",
   "execution_count": 20,
   "metadata": {},
   "outputs": [
    {
     "name": "stderr",
     "output_type": "stream",
     "text": [
      "2024-12-17 13:49:07,618 INFO [2024-09-28T00:00:00] **Welcome to the New Climate Data Store (CDS)!** This new system is in its early days of full operations and still undergoing enhancements and fine tuning. Some disruptions are to be expected. Your \n",
      "[feedback](https://jira.ecmwf.int/plugins/servlet/desk/portal/1/create/202) is key to improve the user experience on the new CDS for the benefit of everyone. Thank you.\n",
      "2024-12-17 13:49:07,619 INFO [2024-09-26T00:00:00] Watch our [Forum](https://forum.ecmwf.int/) for Announcements, news and other discussed topics.\n",
      "2024-12-17 13:49:07,620 INFO [2024-09-16T00:00:00] Remember that you need to have an ECMWF account to use the new CDS. **Your old CDS credentials will not work in new CDS!**\n",
      "2024-12-17 13:49:07,620 WARNING [2024-06-16T00:00:00] CDS API syntax is changed and some keys or parameter names may have also changed. To avoid requests failing, please use the \"Show API request code\" tool on the dataset Download Form to check you are using the correct syntax for your API request.\n",
      "2024-12-17 13:49:07,905 INFO [2024-09-28T00:00:00] **Welcome to the New Climate Data Store (CDS)!** This new system is in its early days of full operations and still undergoing enhancements and fine tuning. Some disruptions are to be expected. Your \n",
      "[feedback](https://jira.ecmwf.int/plugins/servlet/desk/portal/1/create/202) is key to improve the user experience on the new CDS for the benefit of everyone. Thank you.\n",
      "2024-12-17 13:49:07,906 INFO [2024-09-26T00:00:00] Watch our [Forum](https://forum.ecmwf.int/) for Announcements, news and other discussed topics.\n",
      "2024-12-17 13:49:07,907 INFO [2024-09-16T00:00:00] Remember that you need to have an ECMWF account to use the new CDS. **Your old CDS credentials will not work in new CDS!**\n",
      "2024-12-17 13:49:07,907 WARNING [2024-06-16T00:00:00] CDS API syntax is changed and some keys or parameter names may have also changed. To avoid requests failing, please use the \"Show API request code\" tool on the dataset Download Form to check you are using the correct syntax for your API request.\n",
      "2024-12-17 13:49:08,131 INFO Request ID is dedfefca-dca4-4d06-a866-6f0b40073b09\n",
      "2024-12-17 13:49:08,218 INFO status has been updated to accepted\n",
      "2024-12-17 13:49:16,784 INFO status has been updated to running\n",
      "2024-12-17 13:49:29,574 INFO status has been updated to successful\n",
      "                                                                                          \r"
     ]
    },
    {
     "data": {
      "text/plain": [
       "'/Users/ncolombi/Documents/test_data/sis-heat-and-cold-spells.tar.gz'"
      ]
     },
     "execution_count": 20,
     "metadata": {},
     "output_type": "execute_result"
    }
   ],
   "source": [
    "# CDS API\n",
    "import cdsapi\n",
    "c = cdsapi.Client(url=URL, key=KEY)\n",
    "\n",
    "# Define the dataset and request parameters\n",
    "dataset = \"sis-heat-and-cold-spells\"\n",
    "request = {\n",
    "    \"variable\": [\"heat_wave_days\"],\n",
    "    \"definition\": \"health_related\",\n",
    "    \"experiment\": [\"rcp8_5\"],\n",
    "    \"ensemble_statistic\": [\"ensemble_members_average\"]\n",
    "}\n",
    "\n",
    "# Initialize the CDS API client and download the data\n",
    "client = cdsapi.Client()\n",
    "client.retrieve(dataset, request, f\"{DATADIR}/sis-heat-and-cold-spells.tar.gz\")\n"
   ]
  },
  {
   "cell_type": "markdown",
   "metadata": {},
   "source": [
    "# Resume\n",
    "\n",
    "This tutorial provided a detailed guide to installing and configuring CLIMADA alongside the Copernicus Climate Data Store (CDS) API to enable users to access and analyze climate data. It was structured to assist in setting up the environment for climate impact assessments, specifically focusing on heat wave data.\n",
    "\n",
    "The steps covered included:\n",
    "\n",
    "- Installation of CLIMADA: The tutorial outlined how to install CLIMADA on Windows, macOS, and Linux systems. CLIMADA, a robust tool used for climate adaptation modeling, was installed with advanced instructions to ensure proper functionality with datasets from CDS.\n",
    "\n",
    "- Setting Up the CDS API: Users were guided through the process of registering on the Copernicus Data Store, obtaining an API key, and configuring the CDS API. This included detailed steps for creating a configuration file to store API credentials securely and provided instructions tailored to each operating system.\n",
    "\n",
    "- Searching and Downloading Data: The tutorial explained how to search for various types of climate data in the CDS, such as seasonal forecast data and heatwave data. Users were shown how to request data programmatically using the CDS API, and examples were provided on how to select and retrieve data in formats suitable for climate analysis."
   ]
  }
 ],
 "metadata": {
  "kernelspec": {
   "display_name": "Python 3 (ipykernel)",
   "language": "python",
   "name": "python3"
  },
  "language_info": {
   "codemirror_mode": {
    "name": "ipython",
    "version": 3
   },
   "file_extension": ".py",
   "mimetype": "text/x-python",
   "name": "python",
   "nbconvert_exporter": "python",
   "pygments_lexer": "ipython3",
   "version": "3.9.18"
  },
  "toc-autonumbering": true
 },
 "nbformat": 4,
 "nbformat_minor": 4
}
