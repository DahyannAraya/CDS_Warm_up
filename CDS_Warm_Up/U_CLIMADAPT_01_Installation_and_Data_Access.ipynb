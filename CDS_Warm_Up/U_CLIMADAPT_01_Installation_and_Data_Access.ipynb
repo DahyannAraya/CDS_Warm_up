{
 "cells": [
  {
   "cell_type": "markdown",
   "metadata": {},
   "source": [
    "<img src=\"./images/Logos.jpg\" title=\"Institutional Logos\" width=\"70%\">"
   ]
  },
  {
   "cell_type": "markdown",
   "metadata": {
    "tags": []
   },
   "source": [
    "# Heat Waves | Installation and Data Access 01: \n",
    "\n",
    "# Integration Test of CLIMADA Impact Assessment with Copernicus Climate Change Service (C3S) data (V3)\n",
    "\n",
    "### About\n",
    "\n",
    "Welcome to this tutorial, where we embark on a journey to analyse the impact of heat stress using CLIMADA in the context of the U-CLIMADAPT project (User-centric Assessment of Climate Change Impacts for Adaptation). This tutorial is part of a series of four, focusing on **01 Installation and Data Access**, **02 Warm-up**, **03 Scenario**, and **04 Uncertainty and Sensitivity**.\n",
    "\n",
    "Beginning with **01 Installation and Data Access**, it is essential to fully utilise this tutorial series, as it lays the foundation for the entire workflow. This first tutorial ensures that all necessary software, dependencies, and data access are correctly set up, enabling seamless execution of the remaining tutorials.\n",
    "\n",
    "However, the other tutorials (02 Warm-up, 03 Scenario, and 04 Uncertainty and Sensitivity) are designed to be self-contained. You can approach them independently based on your familiarity and expertise with handling CDS data and working with CLIMADA. \n",
    "\n",
    "Throughout these tutorials, we will demonstrate how we leverage climate data, particularly seasonal forecast data from the Climate Data Store (CDS) of the Copernicus Climate Change Service (C3S), in conjunction with CLIMADA (CLIMate ADAptation), to estimate the socio-economic or human impacts of climate-related hazards.\n",
    "\n",
    "### About U-CLIMADAPT\n",
    "\n",
    "The U-CLIMADAPT project is a collaborative effort led by the Working Group \"Impact of Climate Change.\" Its primary goal is to provide refined climate impact assessments tailored to specific requirements. To achieve this, it leverages the power of climate forecasts and projections from C3S's Climate Data Store (CDS) while integrating Copernicus land-use and satellite data.\n",
    "\n",
    "### Integrating CLIMADA and Copernicus Data\n",
    "\n",
    "U-CLIMADAPT integrates Copernicus Climate Data Store (CDS) datasets with CLIMADA to create a powerful tool for assessing the socioeconomic impacts of climate hazards. By combining Copernicus data on extreme heat, floods, drought, and more with CLIMADA’s modelling capabilities, users can estimate risks to populations, infrastructure, and assets, enabling data-driven climate adaptation strategies.\n",
    "\n",
    "### Tutorial Overview\n",
    "\n",
    "Now, let's dive into the tutorial itself. We will guide you through the following steps:\n",
    "\n",
    "- Install CLIMADA ETH.\n",
    "- Search for and download Copernicus data from the Copernicus Data Store CDS.\n",
    "\n",
    "By following this tutorial, you will gain hands-on experience and unlock the potential of integrating CLIMADA with C3S data from Copernicus. Let's get started!"
   ]
  },
  {
   "cell_type": "markdown",
   "metadata": {},
   "source": [
    "<br>"
   ]
  },
  {
   "cell_type": "markdown",
   "metadata": {},
   "source": [
    "### Acknowledgments\n",
    "\n",
    "- **Script Author**: [Dahyann Araya](https://github.com/DahyannAraya?tab=repositories)\n",
    "- **Reviewer**: [Timo Schmid](https://github.com/timschmi95), [Tat Chi Wong](https://github.com/wongtaeth), [Ruth Lorenz](https://github.com/ruthlorenz)"
   ]
  },
  {
   "cell_type": "markdown",
   "metadata": {},
   "source": [
    "# Instal CLIMADA"
   ]
  },
  {
   "cell_type": "markdown",
   "metadata": {},
   "source": [
    "<div class=\"alert alert-block alert-warning\">\n",
    "    <i class=\"fa fa-warning\"></i>&nbsp;Important: For the following steps, you need to install CLIMADA. Please follow the information below for its installation.\n",
    "</div>"
   ]
  },
  {
   "cell_type": "markdown",
   "metadata": {},
   "source": [
    "CLIMADA is compatible with Windows, macOS, and Linux operating systems. It can be installed from source code and offers two installation options: user installation and expert/developer installation. Please refer to the [installation guide](https://climada-python.readthedocs.io/en/latest/guide/install.html) for detailed instructions. For these tutorials, we require the [Advanced Instructions installation](https://climada-python.readthedocs.io/en/latest/guide/install.html#advanced-instructions). "
   ]
  },
  {
   "cell_type": "markdown",
   "metadata": {},
   "source": [
    ">Tip: Additionally, CLIMADA provides datasets through its [Data-API](https://climada.ethz.ch/data-types/), including centroid data, hazard data, and exposure data, which can be easily utilized for CLIMADA analyses"
   ]
  },
  {
   "cell_type": "markdown",
   "metadata": {},
   "source": [
    "# Search and download Copernicus data\n",
    "\n",
    "Before we begin, we must prepare our environment. This includes installing the Application Programming Interface (API) of the CDS and importing the various Python libraries that we will need.\n",
    "\n",
    "- First, register on [Copernicus Data Store CDS](https://cds.climate.copernicus.eu/). Once registered, go to your account, and at the bottom of the web page, you will see your key, which has 32 digits (e.g., xxxxxxxx-xxxx-xxxx-xxxx-xxxxxxxxxxxx). \n",
    "\n",
    "- Second, install the CDS API using pip.\n",
    "\n",
    "## Install CDS API\n",
    "\n",
    "To install the CDS API, run the following command. We use an exclamation mark to pass the command to the shell (not the Python interpreter)."
   ]
  },
  {
   "cell_type": "code",
   "execution_count": 1,
   "metadata": {},
   "outputs": [],
   "source": [
    "#!$ pip install cdsapi>=0.7.2"
   ]
  },
  {
   "cell_type": "markdown",
   "metadata": {},
   "source": [
    "### If this pip does not work\n",
    "\n",
    "#### Window\n",
    "Please follow the instructions for the [Windows installation](https://confluence.ecmwf.int/display/CKB/How+to+install+and+use+CDS+API+on+Windows). \n",
    "Please note that the Windows installation process requires you to be registered with Copernicus and have a personal key (refer to [CDS website](https://cds.climate.copernicus.eu/#!/home) for more information). Additionally, you will need to create a text document in the installation folder of the API and name it \".cdsapirc.txt\". Inside the document, paste the following information:\n",
    "\n",
    "- url: https://cds.climate.copernicus.eu/api/v2\n",
    "- key: xxxxxxxx-xxxx-xxxx-xxxx-xxxxxxxxxxxx \n",
    "\n",
    "After saving the content, the document will be named .cdsapirc.txt. Rename the file by removing \".txt\" extension.\n",
    "Once this step is completed, install in the command prompt with \"$ pip install cdsapi\".\n",
    "\n",
    "To summarize, the instructions are:\n",
    "\n",
    "- Follow the installation instructions for cdsapi on [Windows installation](https://confluence.ecmwf.int/display/CKB/How+to+install+and+use+CDS+API+on+Windows).\n",
    "- Create a text document in the installation folder and name it \".cdsapirc\".\n",
    "- Within the document, paste the provided information and save it.\n",
    "- Rename the document by removing the \".txt\" extension.\n",
    "- Install cdsapi in the command prompt with \"$ pip install cdsapi\".\n",
    "\n",
    "\n",
    "#### macOS\n",
    "To install CDS API on a Mac, please follow the instructions [Mac installation](https://confluence.ecmwf.int/display/CKB/How+to+install+and+use+CDS+API+on+macOS).\n",
    "\n",
    "Note that the installation on Mac requires creating a document with the Terminal where you will install the API. You can do this by typing \"touch ~/.cdsapirc\" in the Terminal. Then, open the document by typing \"nano ~/.cdsapirc\" and paste the following information into the document:\n",
    "\n",
    "- url: https://cds.climate.copernicus.eu/api/v2\n",
    "- key: xxxxxxxx-xxxx-xxxx-xxxx-xxxxxxxxxxxx\n",
    "\n",
    "After saving the content of the document, install the CDS API in the Terminal by typing \"pip install cdsapi\".\n",
    "\n",
    "- Follow the instructions on this website: [Windows installation](https://confluence.ecmwf.int/display/CKB/How+to+install+and+use+CDS+API+on+Windows). to install cdsapi on a Mac.\n",
    "- Navigate to the directory where you want to install the API by using the 'cd' command in Terminal.\n",
    "- Type the command 'touch ~/.cdsapirc' in Terminal to create a file for the API key.\n",
    "- Type the command 'nano ~/.cdsapirc' in Terminal to open the file in a text editor.\n",
    "- Within the document, paste the provided information and save it.\n",
    "- Save the file by pressing 'Ctrl + X' and then 'Y'.\n",
    "- Type the command 'pip install cdsapi' in Terminal to install the cdsapi module."
   ]
  },
  {
   "cell_type": "markdown",
   "metadata": {},
   "source": [
    "### Enter your CDS API key\n",
    "\n",
    "We will request data from the Climate Data Store (CDS) programmatically with the help of the CDS API. Let us use the option to set the CDS API credentials manually. First, you have to define two variables: `URL` and `KEY`, which build together your CDS API key. The string of characters that make up your KEY includes your User ID and CDS API key. Remember to obtain these, first register or login to the CDS (https://cds.climate.copernicus.eu/), then visit https://cds.climate.copernicus.eu/how-to-api and copy the string of characters listed after \"key:\"."
   ]
  },
  {
   "cell_type": "code",
   "execution_count": 2,
   "metadata": {},
   "outputs": [],
   "source": [
    "URL = \"https://cds.climate.copernicus.eu/api\"\n",
    "# KEY is in the format of \"{UID}:{API key}}\"\n",
    "KEY = \"xxxxxx:xxxxxxxx-xxxx-xxxx-xxxx-xxxxxxxxxxxx\""
   ]
  },
  {
   "cell_type": "markdown",
   "metadata": {},
   "source": [
    "Here, we specify a data directory in which we will download our data and all output files that we will generate:"
   ]
  },
  {
   "cell_type": "code",
   "execution_count": 3,
   "metadata": {},
   "outputs": [
    {
     "name": "stdout",
     "output_type": "stream",
     "text": [
      "Data will be saved in: /Users/daraya/Documents/test_data\n"
     ]
    }
   ],
   "source": [
    "import os\n",
    "\n",
    "# Set the data directory within the user's Documents directory\n",
    "DATADIR = os.path.join(os.path.expanduser(\"~/Documents\"), \"test_data\")\n",
    "os.makedirs(DATADIR, exist_ok=True)\n",
    "print(f\"Data will be saved in: {DATADIR}\")"
   ]
  },
  {
   "cell_type": "code",
   "execution_count": 4,
   "metadata": {},
   "outputs": [],
   "source": [
    "from climada import CONFIG\n",
    "\n",
    "KEY = str(CONFIG.cds_api_key)"
   ]
  },
  {
   "cell_type": "code",
   "execution_count": 5,
   "metadata": {},
   "outputs": [
    {
     "name": "stdout",
     "output_type": "stream",
     "text": [
      "Current Directory: /Users/daraya/Documents/GitHub_files/CDS_Warm_up/CDS_Warm_Up\n"
     ]
    }
   ],
   "source": [
    "current_directory = os.getcwd()\n",
    "\n",
    "# Print the current directory\n",
    "print(\"Current Directory:\", current_directory)"
   ]
  },
  {
   "cell_type": "markdown",
   "metadata": {
    "tags": []
   },
   "source": [
    "## Search for data\n",
    "\n",
    "You can access various data options from Copernicus, including heat waves, on the Copernicus harmonised data access [WEKEO](https://www.wekeo.eu/subscription-benefits?mtm_campaign=Wekeo-Souscription&mtm_medium=cpc&mtm_source=google&mtm_content=text&mtm_cid=158889802990&mtm_kwd=wekeo&gad_source=1&gclid=CjwKCAjwnK60BhA9EiwAmpHZw-n8Kyml93dIMqhmgaKoy2s9oPtaysDBG4lNnf957EtOy0axDXQhvBoCZ-8QAvD_BwE). To search for the forecasting data, visit the [CDS website](https://cds.climate.copernicus.eu/). There, you can access various forecasting data. Currently, the following options are available:\n",
    "\n",
    "1. [Seasonal forecast anomalies on single levels](https://cds.climate.copernicus.eu/datasets/seasonal-postprocessed-single-levels?tab=overview)\n",
    "\n",
    "This refers to the deviation or difference from the long-term average or climatology of a specific variable (e.g., temperature or precipitation) at single levels (e.g., surface or specific atmospheric levels) in a seasonal forecast. It provides information on how the forecasted values differ from what is considered normal for that particular season.\n",
    "\n",
    "2. [Seasonal forecast daily and subdaily data on single levels](https://cds.climate.copernicus.eu/datasets/seasonal-original-single-levels?tab=overview)\n",
    "\n",
    "This refers to the availability of daily or subdaily (e.g., hourly) data at single levels in a seasonal forecast. It provides detailed information on the forecasted values of various variables at specific time intervals throughout the season, allowing for more granular analysis and interpretation.\n",
    "\n",
    "3. [Seasonal forecast monthly statistics on single levels](https://cds.climate.copernicus.eu/datasets/seasonal-monthly-single-levels?tab=overview)\n",
    "\n",
    "This refers to aggregated statistical information, such as mean, minimum, maximum, or standard deviation, calculated on a monthly basis for variables at single levels in a seasonal forecast. It provides monthly summary statistics, giving an overview of the expected conditions during that particular period.\n",
    "\n",
    "4. [Seasonal forecast subdaily data on pressure levels](https://cds.climate.copernicus.eu/datasets/seasonal-original-pressure-levels?tab=overview)\n",
    "\n",
    "This refers to the availability of subdaily (e.g., hourly) data specifically at different pressure levels (e.g., 500 hPa, 850 hPa) in a seasonal forecast. It provides information on variables such as temperature, wind, or humidity at specific pressure levels, allowing for analysis of atmospheric conditions at different heights.\n",
    "\n",
    "5. [Seasonal forecast monthly statistics on pressure levels](https://cds.climate.copernicus.eu/datasets/seasonal-original-pressure-levels?tab=overview)\n",
    "\n",
    "Similar to point 3, this refers to aggregated statistical information calculated on a monthly basis, but specifically for variables at different pressure levels in a seasonal forecast. It provides summary statistics for each month at specific pressure levels, giving insights into the expected atmospheric conditions at various heights.\n",
    "\n",
    "6. [Seasonal forecast anomalies on pressure levels](https://cds.climate.copernicus.eu/datasets/seasonal-postprocessed-single-levels?tab=overview)\n",
    "\n",
    "Similar to point 1, this refers to the deviation or difference from the long-term average or climatology of a specific variable at different pressure levels in a seasonal forecast. It provides information on how the forecasted values at different heights differ from what is considered normal for that particular season.\n",
    "\n"
   ]
  },
  {
   "cell_type": "markdown",
   "metadata": {},
   "source": [
    "Having selected the correct dataset, we now need to specify what product type, variables, temporal and geographic coverage we are interested in. These can all be chosen in the **\"Download data\"** tab. In this tab, a form appears in which we will select the parameters like the following to download **(note that these parameters may vary depending on the specific Copernicus data being downloaded)**:\n",
    "\n",
    "- Product type: `Monthly averaged reanalysis`\n",
    "- Variable: `2m temperature`\n",
    "- Year: `1979 to year before present`\n",
    "- Month: `all`\n",
    "- Time: `00:00` (default)\n",
    "- Geographical area: `Europe` \n",
    "- Format: `NetCDF`\n",
    "\n",
    "At the end of the download form, select **\"Show API request\"**. This will reveal a block of code, which you can copy and paste into a cell of your Jupyter Notebook (see cell below) ...\n",
    "\n",
    "### Select the data\n",
    "\n",
    "For this exercise, we have selected a product ready to use [heatwave days dataset from Copernicus](https://cds.climate.copernicus.eu/datasets/sis-heat-and-cold-spells?tab=overview). The dataset provides information for different future periods and considers climate change scenarios, specifically RCP 8.5 and 4.6.\n",
    "\n",
    "A bias-adjusted EURO-CORDEX dataset offers temperature data from 1971 to 2100. By averaging the statistics over 30-year intervals, a smoothed mean time series spanning 1986 to 2085 is obtained. The dataset provides annual heatwave days data with a resolution of 0.1° in latitude and longitude, equivalent to approximately 11 kilometres at the equator.\n",
    "\n",
    "\n",
    "## Download data\n",
    "\n",
    "... having copied the API request into the cell below, running this will retrieve and download the requested data into your local directory. However, before you run the cell below, this dataset's **terms and conditions** must be accepted in the CDS. The option to view and accept these conditions is given at the end of the download form, just above the **\"Show API request\"** option."
   ]
  },
  {
   "cell_type": "code",
   "execution_count": 6,
   "metadata": {},
   "outputs": [
    {
     "name": "stderr",
     "output_type": "stream",
     "text": [
      "2025-03-06 16:59:45,249 INFO [2024-09-26T00:00:00] Watch our [Forum](https://forum.ecmwf.int/) for Announcements, news and other discussed topics.\n",
      "2025-03-06 16:59:45,251 WARNING [2024-06-16T00:00:00] CDS API syntax is changed and some keys or parameter names may have also changed. To avoid requests failing, please use the \"Show API request code\" tool on the dataset Download Form to check you are using the correct syntax for your API request.\n",
      "2025-03-06 16:59:45,402 INFO [2025-01-29T00:00:00] This dataset is no longer supported by the data providers. Data and documentation are provided as is. Users are encouraged to use our [Forum](https://forum.ecmwf.int/) to raise any item of discussion with respect to this dataset.\n",
      "2025-03-06 16:59:45,402 INFO Request ID is 5126a010-e9f3-45d3-a64a-5b768e64070b\n",
      "2025-03-06 16:59:45,477 INFO status has been updated to accepted\n",
      "2025-03-06 16:59:52,791 INFO status has been updated to running\n"
     ]
    },
    {
     "ename": "KeyboardInterrupt",
     "evalue": "",
     "output_type": "error",
     "traceback": [
      "\u001b[0;31m---------------------------------------------------------------------------\u001b[0m",
      "\u001b[0;31mKeyboardInterrupt\u001b[0m                         Traceback (most recent call last)",
      "Cell \u001b[0;32mIn[6], line 16\u001b[0m\n\u001b[1;32m     14\u001b[0m \u001b[38;5;66;03m# Initialize the CDS API client and download the data\u001b[39;00m\n\u001b[1;32m     15\u001b[0m client \u001b[38;5;241m=\u001b[39m cdsapi\u001b[38;5;241m.\u001b[39mClient()\n\u001b[0;32m---> 16\u001b[0m \u001b[43mclient\u001b[49m\u001b[38;5;241;43m.\u001b[39;49m\u001b[43mretrieve\u001b[49m\u001b[43m(\u001b[49m\u001b[43mdataset\u001b[49m\u001b[43m,\u001b[49m\u001b[43m \u001b[49m\u001b[43mrequest\u001b[49m\u001b[43m,\u001b[49m\u001b[43m \u001b[49m\u001b[38;5;124;43mf\u001b[39;49m\u001b[38;5;124;43m\"\u001b[39;49m\u001b[38;5;132;43;01m{\u001b[39;49;00m\u001b[43mDATADIR\u001b[49m\u001b[38;5;132;43;01m}\u001b[39;49;00m\u001b[38;5;124;43m/sis-heat-and-cold-spells.tar.gz\u001b[39;49m\u001b[38;5;124;43m\"\u001b[39;49m\u001b[43m)\u001b[49m\n",
      "File \u001b[0;32m~/miniforge3/envs/climada_env/lib/python3.9/site-packages/cads_api_client/legacy_api_client.py:164\u001b[0m, in \u001b[0;36mLegacyApiClient.retrieve\u001b[0;34m(self, name, request, target)\u001b[0m\n\u001b[1;32m    162\u001b[0m submitted: Remote \u001b[38;5;241m|\u001b[39m Results\n\u001b[1;32m    163\u001b[0m \u001b[38;5;28;01mif\u001b[39;00m \u001b[38;5;28mself\u001b[39m\u001b[38;5;241m.\u001b[39mwait_until_complete:\n\u001b[0;32m--> 164\u001b[0m     submitted \u001b[38;5;241m=\u001b[39m \u001b[38;5;28;43mself\u001b[39;49m\u001b[38;5;241;43m.\u001b[39;49m\u001b[43mlogging_decorator\u001b[49m\u001b[43m(\u001b[49m\u001b[38;5;28;43mself\u001b[39;49m\u001b[38;5;241;43m.\u001b[39;49m\u001b[43mclient\u001b[49m\u001b[38;5;241;43m.\u001b[39;49m\u001b[43msubmit_and_wait_on_results\u001b[49m\u001b[43m)\u001b[49m\u001b[43m(\u001b[49m\n\u001b[1;32m    165\u001b[0m \u001b[43m        \u001b[49m\u001b[43mcollection_id\u001b[49m\u001b[38;5;241;43m=\u001b[39;49m\u001b[43mname\u001b[49m\u001b[43m,\u001b[49m\n\u001b[1;32m    166\u001b[0m \u001b[43m        \u001b[49m\u001b[38;5;241;43m*\u001b[39;49m\u001b[38;5;241;43m*\u001b[39;49m\u001b[43mrequest\u001b[49m\u001b[43m,\u001b[49m\n\u001b[1;32m    167\u001b[0m \u001b[43m    \u001b[49m\u001b[43m)\u001b[49m\n\u001b[1;32m    168\u001b[0m \u001b[38;5;28;01melse\u001b[39;00m:\n\u001b[1;32m    169\u001b[0m     submitted \u001b[38;5;241m=\u001b[39m \u001b[38;5;28mself\u001b[39m\u001b[38;5;241m.\u001b[39mlogging_decorator(\u001b[38;5;28mself\u001b[39m\u001b[38;5;241m.\u001b[39mclient\u001b[38;5;241m.\u001b[39msubmit)(\n\u001b[1;32m    170\u001b[0m         collection_id\u001b[38;5;241m=\u001b[39mname,\n\u001b[1;32m    171\u001b[0m         \u001b[38;5;241m*\u001b[39m\u001b[38;5;241m*\u001b[39mrequest,\n\u001b[1;32m    172\u001b[0m     )\n",
      "File \u001b[0;32m~/miniforge3/envs/climada_env/lib/python3.9/site-packages/cads_api_client/legacy_api_client.py:147\u001b[0m, in \u001b[0;36mLegacyApiClient.logging_decorator.<locals>.wrapper\u001b[0;34m(*args, **kwargs)\u001b[0m\n\u001b[1;32m    142\u001b[0m \u001b[38;5;129m@functools\u001b[39m\u001b[38;5;241m.\u001b[39mwraps(func)\n\u001b[1;32m    143\u001b[0m \u001b[38;5;28;01mdef\u001b[39;00m \u001b[38;5;21mwrapper\u001b[39m(\u001b[38;5;241m*\u001b[39margs: Any, \u001b[38;5;241m*\u001b[39m\u001b[38;5;241m*\u001b[39mkwargs: Any) \u001b[38;5;241m-\u001b[39m\u001b[38;5;241m>\u001b[39m Any:\n\u001b[1;32m    144\u001b[0m     \u001b[38;5;28;01mwith\u001b[39;00m LoggingContext(\n\u001b[1;32m    145\u001b[0m         logger\u001b[38;5;241m=\u001b[39mprocessing\u001b[38;5;241m.\u001b[39mLOGGER, quiet\u001b[38;5;241m=\u001b[39m\u001b[38;5;28mself\u001b[39m\u001b[38;5;241m.\u001b[39mquiet, debug\u001b[38;5;241m=\u001b[39m\u001b[38;5;28mself\u001b[39m\u001b[38;5;241m.\u001b[39m_debug\n\u001b[1;32m    146\u001b[0m     ):\n\u001b[0;32m--> 147\u001b[0m         \u001b[38;5;28;01mreturn\u001b[39;00m \u001b[43mfunc\u001b[49m\u001b[43m(\u001b[49m\u001b[38;5;241;43m*\u001b[39;49m\u001b[43margs\u001b[49m\u001b[43m,\u001b[49m\u001b[43m \u001b[49m\u001b[38;5;241;43m*\u001b[39;49m\u001b[38;5;241;43m*\u001b[39;49m\u001b[43mkwargs\u001b[49m\u001b[43m)\u001b[49m\n",
      "File \u001b[0;32m~/miniforge3/envs/climada_env/lib/python3.9/site-packages/cads_api_client/api_client.py:454\u001b[0m, in \u001b[0;36mApiClient.submit_and_wait_on_results\u001b[0;34m(self, collection_id, **request)\u001b[0m\n\u001b[1;32m    438\u001b[0m \u001b[38;5;28;01mdef\u001b[39;00m \u001b[38;5;21msubmit_and_wait_on_results\u001b[39m(\n\u001b[1;32m    439\u001b[0m     \u001b[38;5;28mself\u001b[39m, collection_id: \u001b[38;5;28mstr\u001b[39m, \u001b[38;5;241m*\u001b[39m\u001b[38;5;241m*\u001b[39mrequest: Any\n\u001b[1;32m    440\u001b[0m ) \u001b[38;5;241m-\u001b[39m\u001b[38;5;241m>\u001b[39m cads_api_client\u001b[38;5;241m.\u001b[39mResults:\n\u001b[1;32m    441\u001b[0m \u001b[38;5;250m    \u001b[39m\u001b[38;5;124;03m\"\"\"Submit a request and wait for the results to be ready.\u001b[39;00m\n\u001b[1;32m    442\u001b[0m \n\u001b[1;32m    443\u001b[0m \u001b[38;5;124;03m    Parameters\u001b[39;00m\n\u001b[0;32m   (...)\u001b[0m\n\u001b[1;32m    452\u001b[0m \u001b[38;5;124;03m    cads_api_client.Results\u001b[39;00m\n\u001b[1;32m    453\u001b[0m \u001b[38;5;124;03m    \"\"\"\u001b[39;00m\n\u001b[0;32m--> 454\u001b[0m     \u001b[38;5;28;01mreturn\u001b[39;00m \u001b[38;5;28;43mself\u001b[39;49m\u001b[38;5;241;43m.\u001b[39;49m\u001b[43m_retrieve_api\u001b[49m\u001b[38;5;241;43m.\u001b[39;49m\u001b[43msubmit\u001b[49m\u001b[43m(\u001b[49m\u001b[43mcollection_id\u001b[49m\u001b[43m,\u001b[49m\u001b[43m \u001b[49m\u001b[38;5;241;43m*\u001b[39;49m\u001b[38;5;241;43m*\u001b[39;49m\u001b[43mrequest\u001b[49m\u001b[43m)\u001b[49m\u001b[38;5;241;43m.\u001b[39;49m\u001b[43mmake_results\u001b[49m\u001b[43m(\u001b[49m\u001b[43m)\u001b[49m\n",
      "File \u001b[0;32m~/miniforge3/envs/climada_env/lib/python3.9/site-packages/cads_api_client/processing.py:475\u001b[0m, in \u001b[0;36mRemote.make_results\u001b[0;34m(self, wait)\u001b[0m\n\u001b[1;32m    473\u001b[0m \u001b[38;5;28;01mdef\u001b[39;00m \u001b[38;5;21mmake_results\u001b[39m(\u001b[38;5;28mself\u001b[39m, wait: \u001b[38;5;28mbool\u001b[39m \u001b[38;5;241m=\u001b[39m \u001b[38;5;28;01mTrue\u001b[39;00m) \u001b[38;5;241m-\u001b[39m\u001b[38;5;241m>\u001b[39m Results:\n\u001b[1;32m    474\u001b[0m     \u001b[38;5;28;01mif\u001b[39;00m wait:\n\u001b[0;32m--> 475\u001b[0m         \u001b[38;5;28;43mself\u001b[39;49m\u001b[38;5;241;43m.\u001b[39;49m\u001b[43m_wait_on_results\u001b[49m\u001b[43m(\u001b[49m\u001b[43m)\u001b[49m\n\u001b[1;32m    476\u001b[0m     response \u001b[38;5;241m=\u001b[39m \u001b[38;5;28mself\u001b[39m\u001b[38;5;241m.\u001b[39m_get_api_response(\u001b[38;5;124m\"\u001b[39m\u001b[38;5;124mget\u001b[39m\u001b[38;5;124m\"\u001b[39m)\n\u001b[1;32m    477\u001b[0m     \u001b[38;5;28;01mtry\u001b[39;00m:\n",
      "File \u001b[0;32m~/miniforge3/envs/climada_env/lib/python3.9/site-packages/cads_api_client/processing.py:471\u001b[0m, in \u001b[0;36mRemote._wait_on_results\u001b[0;34m(self)\u001b[0m\n\u001b[1;32m    469\u001b[0m     \u001b[38;5;28;01mraise\u001b[39;00m ProcessingFailedError(\u001b[38;5;124mf\u001b[39m\u001b[38;5;124m\"\u001b[39m\u001b[38;5;124mUnknown API state \u001b[39m\u001b[38;5;132;01m{\u001b[39;00mstatus\u001b[38;5;132;01m!r}\u001b[39;00m\u001b[38;5;124m\"\u001b[39m)\n\u001b[1;32m    470\u001b[0m \u001b[38;5;28mself\u001b[39m\u001b[38;5;241m.\u001b[39mdebug(\u001b[38;5;124mf\u001b[39m\u001b[38;5;124m\"\u001b[39m\u001b[38;5;124mresults not ready, waiting for \u001b[39m\u001b[38;5;132;01m{\u001b[39;00msleep\u001b[38;5;132;01m}\u001b[39;00m\u001b[38;5;124m seconds\u001b[39m\u001b[38;5;124m\"\u001b[39m)\n\u001b[0;32m--> 471\u001b[0m \u001b[43mtime\u001b[49m\u001b[38;5;241;43m.\u001b[39;49m\u001b[43msleep\u001b[49m\u001b[43m(\u001b[49m\u001b[43msleep\u001b[49m\u001b[43m)\u001b[49m\n",
      "\u001b[0;31mKeyboardInterrupt\u001b[0m: "
     ]
    }
   ],
   "source": [
    "# CDS API\n",
    "import cdsapi\n",
    "c = cdsapi.Client(url=URL, key=KEY)\n",
    "\n",
    "# Define the dataset and request parameters\n",
    "dataset = \"sis-heat-and-cold-spells\"\n",
    "request = {\n",
    "    \"variable\": [\"heat_wave_days\"],\n",
    "    \"definition\": \"health_related\",\n",
    "    \"experiment\": [\"rcp8_5\"],\n",
    "    \"ensemble_statistic\": [\"ensemble_members_average\"]\n",
    "}\n",
    "\n",
    "# Initialize the CDS API client and download the data\n",
    "client = cdsapi.Client()\n",
    "client.retrieve(dataset, request, f\"{DATADIR}/sis-heat-and-cold-spells.tar.gz\")\n"
   ]
  },
  {
   "cell_type": "markdown",
   "metadata": {},
   "source": [
    "# Resume\n",
    "\n",
    "This tutorial provided a detailed guide to installing and configuring CLIMADA alongside the Copernicus Climate Data Store (CDS) API to enable users to access and analyze climate data. It was structured to assist in setting up the environment for climate impact assessments, specifically focusing on heat wave data.\n",
    "\n",
    "The steps covered included:\n",
    "\n",
    "- Installation of CLIMADA: The tutorial outlined how to install CLIMADA on Windows, macOS, and Linux systems. CLIMADA, a robust tool used for climate adaptation modeling, was installed with advanced instructions to ensure proper functionality with datasets from CDS.\n",
    "\n",
    "- Setting Up the CDS API: Users were guided through the process of registering on the Copernicus Data Store, obtaining an API key, and configuring the CDS API. This included detailed steps for creating a configuration file to store API credentials securely and provided instructions tailored to each operating system.\n",
    "\n",
    "- Searching and Downloading Data: The tutorial explained how to search for various types of climate data in the CDS, such as seasonal forecast data and heatwave data. Users were shown how to request data programmatically using the CDS API, and examples were provided on how to select and retrieve data in formats suitable for climate analysis."
   ]
  },
  {
   "cell_type": "code",
   "execution_count": null,
   "metadata": {},
   "outputs": [],
   "source": []
  }
 ],
 "metadata": {
  "kernelspec": {
   "display_name": "Python 3 (ipykernel)",
   "language": "python",
   "name": "python3"
  },
  "language_info": {
   "codemirror_mode": {
    "name": "ipython",
    "version": 3
   },
   "file_extension": ".py",
   "mimetype": "text/x-python",
   "name": "python",
   "nbconvert_exporter": "python",
   "pygments_lexer": "ipython3",
   "version": "3.9.18"
  },
  "toc-autonumbering": true
 },
 "nbformat": 4,
 "nbformat_minor": 4
}
